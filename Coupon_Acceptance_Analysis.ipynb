{
 "cells": [
  {
   "cell_type": "markdown",
   "id": "9884119a",
   "metadata": {},
   "source": [
    "# Coupon Acceptance Analysis"
   ]
  },
  {
   "cell_type": "code",
   "execution_count": null,
   "id": "1e81106c",
   "metadata": {},
   "outputs": [],
   "source": [
    "import pandas as pd\n",
    "import seaborn as sns\n",
    "import matplotlib.pyplot as plt"
   ]
  },
  {
   "cell_type": "code",
   "execution_count": null,
   "id": "37274a97",
   "metadata": {},
   "outputs": [],
   "source": [
    "# Load dataset\n",
    "df = pd.read_csv('data.csv')  # Replace with actual path\n",
    "print(df.head())"
   ]
  },
  {
   "cell_type": "code",
   "execution_count": null,
   "id": "93a723d6",
   "metadata": {},
   "outputs": [],
   "source": [
    "# Target variable summary\n",
    "print(df['Y'].value_counts())"
   ]
  },
  {
   "cell_type": "code",
   "execution_count": null,
   "id": "24c77360",
   "metadata": {},
   "outputs": [],
   "source": [
    "# Basic statistics\n",
    "print(df.describe(include='all'))"
   ]
  },
  {
   "cell_type": "code",
   "execution_count": null,
   "id": "d489e75a",
   "metadata": {},
   "outputs": [],
   "source": [
    "# Visualizing acceptance\n",
    "sns.countplot(x='Y', data=df)\n",
    "plt.title('Accepted vs Rejected Coupons')\n",
    "plt.show()"
   ]
  },
  {
   "cell_type": "code",
   "execution_count": null,
   "id": "0e45ed3c",
   "metadata": {},
   "outputs": [],
   "source": [
    "# Coupon type vs acceptance\n",
    "sns.countplot(x='coupon', hue='Y', data=df)\n",
    "plt.title('Coupon Type vs Acceptance')\n",
    "plt.show()"
   ]
  }
 ],
 "metadata": {},
 "nbformat": 4,
 "nbformat_minor": 5
}
